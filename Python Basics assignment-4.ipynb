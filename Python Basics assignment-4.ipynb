{
 "cells": [
  {
   "cell_type": "code",
   "execution_count": 2,
   "id": "2835a5e2",
   "metadata": {},
   "outputs": [
    {
     "name": "stdout",
     "output_type": "stream",
     "text": [
      "Enter a number3\n",
      "The factorial of the 3 is 6\n"
     ]
    }
   ],
   "source": [
    "#1.  Write a Python Program to Find the Factorial of a Number?\n",
    "num=int(input('Enter a number'))\n",
    "factorial=1\n",
    "#Check the num is negative,positive or 0\n",
    "if num<0:\n",
    "    print(\"Factorial does not exist for negative numbers\")\n",
    "elif num==0:\n",
    "    print('\"The factorial of 0 is 1\"')\n",
    "else:\n",
    "    for i in range(1,num+1):\n",
    "        factorial=factorial*i\n",
    "    print('The factorial of the',num,'is',factorial)\n"
   ]
  },
  {
   "cell_type": "code",
   "execution_count": 3,
   "id": "ddf63607",
   "metadata": {},
   "outputs": [
    {
     "name": "stdout",
     "output_type": "stream",
     "text": [
      "Enter a number12\n",
      "12 x 1 = 12\n",
      "12 x 2 = 24\n",
      "12 x 3 = 36\n",
      "12 x 4 = 48\n",
      "12 x 5 = 60\n",
      "12 x 6 = 72\n",
      "12 x 7 = 84\n",
      "12 x 8 = 96\n",
      "12 x 9 = 108\n",
      "12 x 10 = 120\n"
     ]
    }
   ],
   "source": [
    "#2.  Write a Python Program to Display the multiplication Table?\n",
    "num=int(input('Enter a number'))\n",
    "#iterate 10 items from i=1 to 10\n",
    "for i in range(1,11):\n",
    "    print(num,'x',i,'=',num*i)"
   ]
  },
  {
   "cell_type": "code",
   "execution_count": 11,
   "id": "52d6c497",
   "metadata": {},
   "outputs": [
    {
     "name": "stdout",
     "output_type": "stream",
     "text": [
      "how many terms7\n",
      "Fibonacci sequence:\n",
      "0\n",
      "1\n",
      "1\n",
      "2\n",
      "3\n",
      "5\n",
      "8\n"
     ]
    }
   ],
   "source": [
    "#3.  Write a Python Program to Print the Fibonacci sequence?\n",
    "nterms=int(input('how many terms'))\n",
    "#first two terms\n",
    "n1, n2 = 0, 1 \n",
    "count = 0\n",
    "# check if the number of terms is valid\n",
    "if nterms<=0:\n",
    "    print('please enter a positive number')\n",
    "# if there is only one term, return n1\n",
    "elif nterms==1:\n",
    "    print(\"Fibonacci sequence upto\",nterms,\":\")\n",
    "    print(n1)\n",
    "# generate fibonacci sequence\n",
    "else:\n",
    "    print('Fibonacci sequence:')\n",
    "    while count < nterms:\n",
    "        print(n1)\n",
    "        nth=n1+n2\n",
    "        #update values\n",
    "        n1=n2\n",
    "        n2=nth\n",
    "        count+=1"
   ]
  },
  {
   "cell_type": "code",
   "execution_count": 2,
   "id": "9b3fd4a7",
   "metadata": {},
   "outputs": [
    {
     "name": "stdout",
     "output_type": "stream",
     "text": [
      "Enter a number: 407\n",
      "407 is an Amstrong number\n"
     ]
    }
   ],
   "source": [
    "#4.  Write a Python Program to Check Armstrong Number?\n",
    "num=int(input('Enter a number: '))\n",
    "#initialize sum\n",
    "sum=0\n",
    "#find the sum of the cube of the each digit\n",
    "temp=num\n",
    "while temp>0:\n",
    "    digit=temp%10\n",
    "    sum+=digit**3\n",
    "    temp//=10\n",
    "    \n",
    "#display the result\n",
    "if num==sum:\n",
    "    print(num,'is an Amstrong number')\n",
    "else:\n",
    "    print(num,'is not Amstrong number')"
   ]
  },
  {
   "cell_type": "code",
   "execution_count": 4,
   "id": "05a10ba7",
   "metadata": {},
   "outputs": [
    {
     "name": "stdout",
     "output_type": "stream",
     "text": [
      "153\n",
      "370\n",
      "371\n",
      "407\n",
      "1634\n"
     ]
    }
   ],
   "source": [
    "#5.  Write a Python Program to Find Armstrong Number in an Interval?\n",
    "lower=100\n",
    "upper=2000\n",
    "for num in range(lower,upper+1):\n",
    "    #order of num\n",
    "    order=len(str(num))\n",
    "    \n",
    "    #initialize sum\n",
    "    sum=0\n",
    "    \n",
    "    temp = num\n",
    "    while temp>0:\n",
    "        digit = temp % 10\n",
    "        sum+= digit ** order\n",
    "        temp//=10\n",
    "        \n",
    "    if num==sum:\n",
    "        print(num)\n",
    "        "
   ]
  },
  {
   "cell_type": "code",
   "execution_count": 10,
   "id": "2c4a3d10",
   "metadata": {},
   "outputs": [
    {
     "name": "stdout",
     "output_type": "stream",
     "text": [
      "enter a number: 5\n",
      "The sum is 15\n"
     ]
    }
   ],
   "source": [
    "#6.  Write a Python Program to Find the Sum of Natural Numbers?\n",
    "num=int(input('enter a number: '))\n",
    "if num<0:\n",
    "    print('please,enter a positive number')\n",
    "else:\n",
    "    sum=0\n",
    "    #using while loop to iterate until zero\n",
    "    while(num>0):\n",
    "        sum += num\n",
    "        num -= 1\n",
    "    print('The sum is' ,sum)"
   ]
  },
  {
   "cell_type": "code",
   "execution_count": null,
   "id": "908d85fa",
   "metadata": {},
   "outputs": [],
   "source": []
  }
 ],
 "metadata": {
  "kernelspec": {
   "display_name": "Python 3",
   "language": "python",
   "name": "python3"
  },
  "language_info": {
   "codemirror_mode": {
    "name": "ipython",
    "version": 3
   },
   "file_extension": ".py",
   "mimetype": "text/x-python",
   "name": "python",
   "nbconvert_exporter": "python",
   "pygments_lexer": "ipython3",
   "version": "3.8.8"
  }
 },
 "nbformat": 4,
 "nbformat_minor": 5
}
