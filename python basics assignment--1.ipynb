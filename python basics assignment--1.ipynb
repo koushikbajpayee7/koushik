{
 "cells": [
  {
   "cell_type": "raw",
   "id": "971e5abc",
   "metadata": {},
   "source": [
    "# 1.What are the two values of the Boolean data type? How do you write them?\n",
    "\n",
    "--->There are two Boolean values:True,False.\n",
    "    for example 1<=2 is True,and 1==0 is false.\n",
    "    "
   ]
  },
  {
   "cell_type": "raw",
   "id": "e3618130",
   "metadata": {},
   "source": [
    "#.2. What are the three different types of Boolean operators?\n",
    "--->The three type of Boolean operators are and,or,not"
   ]
  },
  {
   "cell_type": "raw",
   "id": "f4b5672f",
   "metadata": {},
   "source": [
    "#3. Make a list of each Boolean operator's truth tables (i.e. every possible combination of Boolean values for the operator and what it evaluate ).\n",
    " \n",
    "\n",
    "---> AND           OR               NOT\n",
    "                  \n",
    "X  Y   XY        X  Y  XY        X     X\"\n",
    "0  0   0         0  0   0        0     1 \n",
    "0  1   0         0  1   1        1     0\n",
    "1  0   0         1  0   1\n",
    "1  1   1         1  1   1"
   ]
  },
  {
   "cell_type": "raw",
   "id": "f2edf171",
   "metadata": {},
   "source": [
    "# 4. What are the values of the following expressions?\n",
    "(5 > 4) and (3 == 5)                     ---> IS False\n",
    "not (5 > 4)                              ---->False\n",
    "(5 > 4) or (3 == 5)                      ---->True\n",
    "not ((5 > 4) or (3 == 5))               ---->False\n",
    "(True and True) and (True == False)     ---->False\n",
    "(not False) or (not True)               ---->True\n"
   ]
  },
  {
   "cell_type": "raw",
   "id": "9ce14071",
   "metadata": {},
   "source": [
    "# 5. What are the six comparison operators?\n",
    "---> less than(<),\n",
    "     less than or equal(<=) \n",
    "     greater than(>),\n",
    "     greater than or equal to(>=),\n",
    "     equal to(==),\n",
    "     not equal to(!=)"
   ]
  },
  {
   "cell_type": "raw",
   "id": "40cc9cae",
   "metadata": {},
   "source": [
    "#6. How do you tell the difference between the equal to and assignment operators?Describe a condition and when you would use one.\n",
    " =(equal to)\n",
    " It is used for assigning the value to a variable.\n",
    "\n",
    "==(assignment operators)\n",
    " it is used for comparing two values.It returns 1 if both the values are equal otherwise returns 0.\n",
    " \n",
    " ex:\n",
    " a=123\n",
    " here a is a variable and we are assigning the value of the variable.\n",
    " \n",
    " 1==1\n",
    " here we are comparing two values.here in this case both values are equal.so comparison operator returns True\n",
    " \n",
    " "
   ]
  },
  {
   "cell_type": "raw",
   "id": "2577d70d",
   "metadata": {},
   "source": [
    "#7. Identify the three blocks in this code:\n",
    "spam = 0\n",
    "if spam == 10:\n",
    "print('eggs')\n",
    "if spam > 5:\n",
    "print('bacon')\n",
    "else:\n",
    "print('ham')\n",
    "print('spam')\n",
    "print('spam')\n",
    "\n",
    "\n",
    "---->\n",
    "spam = 0\n",
    "if spam == 10:\n",
    "    print('eggs')          #indent increased,block A\n",
    "    if spam > 5:           #still block A\n",
    "        print('bacon')     #still block A,indent increased, block B inside block A\n",
    "    else:                  #still block A,indent decreased,block B ended in line above\n",
    "        print('ham')       #still block A,indent increased,block C inside block A\n",
    "    print('spam')          #still block A,indent decreased,block C ended in line above\n",
    "print('spam')              #indent decreased,block Aends in line above\n"
   ]
  },
  {
   "cell_type": "raw",
   "id": "3fb1a413",
   "metadata": {},
   "source": [
    "#8. Write code that prints Hello if 1 is stored in spam, prints Howdy if 2 is stored in spam, and prints Greetings! if anything else is stored in spam.\n",
    "--->\n",
    "spam=int(input())\n",
    "if spam==1:\n",
    "    print('hello')\n",
    "elif spam==2:\n",
    "    print('howdy')\n",
    "else:\n",
    "    print('Greetings')"
   ]
  },
  {
   "cell_type": "raw",
   "id": "6354ba10",
   "metadata": {},
   "source": [
    "#9.If your programme is stuck in an endless loop, what keys you’ll press?\n",
    "--->i can stop an infinite loop with CTRL+C."
   ]
  },
  {
   "cell_type": "raw",
   "id": "b57fbf97",
   "metadata": {},
   "source": [
    "#10. How can you tell the difference between break and continue?\n",
    "--->In python break statement stops the loop in which the statement is placed.A python continue statement skips a single iteration in a loop.Both break and continue statement can be used in a for or a while loop...The continue statement allows you to skip part of a loop when a condition is met."
   ]
  },
  {
   "cell_type": "raw",
   "id": "195387d8",
   "metadata": {},
   "source": [
    "#11. In a for loop, what is the difference between range(10), range(0, 10), and range(0, 10, 1)?\n",
    "--->I think there is no difference.in all cases range start from 0,goes till 9 with step size 1.\n",
    "\n"
   ]
  },
  {
   "cell_type": "raw",
   "id": "f3ae502e",
   "metadata": {},
   "source": [
    "#12. Write a short program that prints the numbers 1 to 10 using a for loop. Then write an equivalent program that prints the numbers 1 to 10 using a while loop.\n",
    "\n",
    "-->for i in range(11):\n",
    "    print(i)\n",
    "    \n",
    "  --->i=1\n",
    "while(i<=10):\n",
    "    print(i)\n",
    "    i=i+1"
   ]
  },
  {
   "cell_type": "raw",
   "id": "60a85455",
   "metadata": {},
   "source": [
    "#13. If you had a function named bacon() inside a module named spam, how would you call it after importing spam?"
   ]
  }
 ],
 "metadata": {
  "kernelspec": {
   "display_name": "Python 3",
   "language": "python",
   "name": "python3"
  },
  "language_info": {
   "codemirror_mode": {
    "name": "ipython",
    "version": 3
   },
   "file_extension": ".py",
   "mimetype": "text/x-python",
   "name": "python",
   "nbconvert_exporter": "python",
   "pygments_lexer": "ipython3",
   "version": "3.8.8"
  }
 },
 "nbformat": 4,
 "nbformat_minor": 5
}
