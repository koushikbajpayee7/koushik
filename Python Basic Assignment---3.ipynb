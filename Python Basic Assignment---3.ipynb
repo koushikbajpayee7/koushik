{
 "cells": [
  {
   "cell_type": "raw",
   "id": "91e42594",
   "metadata": {},
   "source": [
    "# 1. Why are functions advantageous to have in your programs?\n",
    "\n",
    "--->Functions reduce the need for duplicate code.\n",
    "    This makes programs shorter, easier to read, and easier to update. ..\n",
    "    A function call is what moves the program execution into the function, and the function call evaluates to the function's return value."
   ]
  },
  {
   "cell_type": "raw",
   "id": "9d702853",
   "metadata": {},
   "source": [
    "#2. When does the code in a function run: when it's specified or when it's called?\n",
    "\n",
    "--->code in function run when it's called using function name. "
   ]
  },
  {
   "cell_type": "raw",
   "id": "8048437e",
   "metadata": {},
   "source": [
    "#3. What statement creates a function?\n",
    "\n",
    "-->The “def” keyword is a statement for defining a function in Python. You start a function with the def keyword, specify a name followed by a colon (:) sign. The “def” call creates the function object and assigns it to the name given. You can further re-assign the same function object to other names.\n",
    "\n",
    "   "
   ]
  },
  {
   "cell_type": "raw",
   "id": "40a9c7cf",
   "metadata": {},
   "source": [
    "#4. What is the difference between a function and a function call?\n",
    "\n",
    "--->A function is a piece of code which enhanced the reusability and modularity of your program. It means that piece of code need not be written again.\n",
    "A function call means invoking or calling that function. Unless a function is called there is no use of that function."
   ]
  },
  {
   "cell_type": "raw",
   "id": "0e72878d",
   "metadata": {},
   "source": [
    "#5. How many global scopes are there in a Python program? How many local scopes?\n",
    "\n",
    "--->There's only one global Python scope per program execution. This scope remains in existence until the program terminates and all its names are forgotten. Otherwise, the next time you were to run the program, the names would remember their values from the previous run.\n",
    "\n",
    "--->When you use an unqualified name inside a function, Python searches three scopes—the local (L), then the global (G), and then the built-in (B)—and stops at the first place the name is found."
   ]
  },
  {
   "cell_type": "raw",
   "id": "20d0542b",
   "metadata": {},
   "source": [
    "#6. What happens to variables in a local scope when the function call returns?\n",
    "\n",
    "--->When the execution of the function terminates (returns), the local variables are destroyed. Codelens helps you visualize this because the local variables disappear after the function returns.\n"
   ]
  },
  {
   "cell_type": "raw",
   "id": "7a5302ec",
   "metadata": {},
   "source": [
    "#7. What is the concept of a return value? Is it possible to have a return value in an expression?\n",
    "\n",
    "--->A return is a value that a function returns to the calling script or function when it completes its task. A return value can be any one of the four variable types: handle, integer, object, or string. The type of value your function returns depends largely on the task it performs."
   ]
  },
  {
   "cell_type": "raw",
   "id": "3bf4dfe4",
   "metadata": {},
   "source": [
    "#8. If a function does not have a return statement, what is the return value of a call to that function?\n",
    "\n",
    "--->If a function doesn't specify a return value, it returns None"
   ]
  },
  {
   "cell_type": "raw",
   "id": "b84e91d0",
   "metadata": {},
   "source": [
    "#9. How do you make a function variable refer to the global variable?\n",
    "--->If i want to refer to a global variable in a function, i can use the global keyword to declare which variables are global."
   ]
  },
  {
   "cell_type": "raw",
   "id": "7496d234",
   "metadata": {},
   "source": [
    "#10. What is the data type of None?\n",
    "--->The None keyword is used to define a null variable or an object. In Python, None keyword is an object, and it is a data type of the class NoneType . We can assign None to any variable, but you can not create other NoneType objects. Note: All variables that are assigned None point to the same object."
   ]
  },
  {
   "cell_type": "raw",
   "id": "adeab3d8",
   "metadata": {},
   "source": [
    "#11. What does the sentence import areallyourpetsnamederic do?\n",
    "-->A global statement will force a variable in a function to refer to the global variable. The data type of None is NoneType . That import statement imports a module named areallyourpetsnamederic ."
   ]
  },
  {
   "cell_type": "raw",
   "id": "4ce4e326",
   "metadata": {},
   "source": [
    "#12. If you had a bacon() feature in a spam module, what would you call it after importing spam?\n",
    "\n",
    "--->This function can be called with spam. bacon()"
   ]
  },
  {
   "cell_type": "raw",
   "id": "39758d8b",
   "metadata": {},
   "source": [
    "#13. What can you do to save a programme from crashing if it encounters an error?\n",
    "\n",
    "--->If an error occurs in a program, we don't want the program to unexpectedly crash on the user. Instead, error handling can be used to notify the user of why the error occurred and gracefully exit the process that caused the error.18-Jun-2020"
   ]
  },
  {
   "cell_type": "raw",
   "id": "65c423b5",
   "metadata": {},
   "source": [
    "\n",
    "\n",
    "-->The try block allows you to test a block of code for errors. The except block enables you to handle the error with a user-defined response.0#14. What is the purpose of the try clause? What is the purpose of the except clause?"
   ]
  }
 ],
 "metadata": {
  "kernelspec": {
   "display_name": "Python 3",
   "language": "python",
   "name": "python3"
  },
  "language_info": {
   "codemirror_mode": {
    "name": "ipython",
    "version": 3
   },
   "file_extension": ".py",
   "mimetype": "text/x-python",
   "name": "python",
   "nbconvert_exporter": "python",
   "pygments_lexer": "ipython3",
   "version": "3.8.8"
  }
 },
 "nbformat": 4,
 "nbformat_minor": 5
}
