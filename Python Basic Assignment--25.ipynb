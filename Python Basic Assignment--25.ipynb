{
 "cells": [
  {
   "cell_type": "raw",
   "id": "dacd5a28",
   "metadata": {},
   "source": [
    "#1) . What is the difference between enclosing a list comprehension in square brackets and parentheses?\n",
    "--->Square brackets are lists while parentheses are tuples."
   ]
  },
  {
   "cell_type": "raw",
   "id": "63123bdc",
   "metadata": {},
   "source": [
    "#2) What is the relationship between generators and iterators?\n",
    "--->Iterator:Iterators are used mostly to iterate or convert other objects to an iterator using iter() function.\tGenerator:Generators are mostly used in loops to generate an iterator by returning all the values in the loop without affecting the iteration of the loop"
   ]
  },
  {
   "cell_type": "raw",
   "id": "2b61efd6",
   "metadata": {},
   "source": [
    "#3) What are the signs that a function is a generator function?\n",
    "--->If a function contains at least one yield statement (it may contain other yield or return statements), it becomes a generator function. Both yield and return will return some value from a function."
   ]
  },
  {
   "cell_type": "raw",
   "id": "97640c72",
   "metadata": {},
   "source": [
    "#4) What is the purpose of a yield statement?\n",
    "-->a yield statement looks much like a return statement, except that instead of stopping execution of the function and returning, yield instead provides a value to the code looping over the generator and pauses execution of the generator function."
   ]
  },
  {
   "cell_type": "raw",
   "id": "1ceebf4a",
   "metadata": {},
   "source": [
    "#5) What is the relationship between map calls and list comprehensions? Make a comparison and contrast between the two.\n",
    "-->List comprehension is more concise and easier to read as compared to map. List comprehension are used when a list of results is required as map only returns a map object and does not return any list. Map is faster in case of calling an already defined function (as no lambda is required)."
   ]
  }
 ],
 "metadata": {
  "kernelspec": {
   "display_name": "Python 3",
   "language": "python",
   "name": "python3"
  },
  "language_info": {
   "codemirror_mode": {
    "name": "ipython",
    "version": 3
   },
   "file_extension": ".py",
   "mimetype": "text/x-python",
   "name": "python",
   "nbconvert_exporter": "python",
   "pygments_lexer": "ipython3",
   "version": "3.8.8"
  }
 },
 "nbformat": 4,
 "nbformat_minor": 5
}
