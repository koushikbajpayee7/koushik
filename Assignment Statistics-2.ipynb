{
 "cells": [
  {
   "cell_type": "raw",
   "id": "ea9af2cd",
   "metadata": {},
   "source": [
    "#1.Raindrops are falling at an average rate of 20 drops per square inch per minute. What would be a reasonable distribution to use for the number of raindrops hitting a particular region measuring 5 inches2 in t minutes? Why? Using your chosen distribution, compute the probability that the region has no rain drops in a given 3 second time interval. A reasonable choice of distribution is P\n",
    "\n",
    "--->\n",
    "Answer In this we have to use Poisson distribution because in Poisson distribution we search for how many ties no of event take place. As we see in above question that we have to find how many no of times raindrop fall at particular region\n",
    "\n",
    "so firstly i have to find in t minutes how many rainfall fall.\n",
    "\n",
    "t*no of drops*inches = t * lambda = t * 20* 5 = 100t\n",
    "\n",
    "so we find that there are 100 drops for 5 square inches.\n",
    "\n",
    "20 has been chosen as it is being mentioned the region has no rain drops in a given 3second time interval. 20 in 1 minute or 60 seconds calculation.\n",
    "\n",
    "P(X=0) = ((100/20)^0/0!)*e^-100/20 = e^-5"
   ]
  },
  {
   "cell_type": "raw",
   "id": "e2b07d30",
   "metadata": {},
   "source": [
    "# 2.Let X be a random day of the week, coded so that Monday is 1, Tuesday is 2, etc. (so X takes values 1, 2,..., 7, with equal probabilities). Let Y be the next day after X (again represented as an integer between 1 and 7). Do X and Y have the same distribution? What is P(X)\n",
    "--->\n",
    "As x is the random day of the week so x has the probaility of 1/7\n",
    "yet   x      y      p(x)        p(y)\n",
    "      1      2      1/7          1/7\n",
    "    again if \n",
    "    \n",
    "    x   y   p(x)   p(y)\n",
    "    2   3   1/7    1/7\n",
    "    3   4   1/7    1/7\n",
    "    4   5   1/7    1/7\n",
    "    5   6   1/7    1/7\n",
    "    6   7   1/7    1/7\n",
    "    7   1   1/7    1/7\n",
    "\n",
    "    All the values of x & y have equal probabilities.\n",
    "    P(x/y)=6/7=0.85\n",
    "    \n",
    "    "
   ]
  }
 ],
 "metadata": {
  "kernelspec": {
   "display_name": "Python 3",
   "language": "python",
   "name": "python3"
  },
  "language_info": {
   "codemirror_mode": {
    "name": "ipython",
    "version": 3
   },
   "file_extension": ".py",
   "mimetype": "text/x-python",
   "name": "python",
   "nbconvert_exporter": "python",
   "pygments_lexer": "ipython3",
   "version": "3.8.8"
  }
 },
 "nbformat": 4,
 "nbformat_minor": 5
}
