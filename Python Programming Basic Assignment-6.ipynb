{
 "cells": [
  {
   "cell_type": "raw",
   "id": "f5132ab0",
   "metadata": {},
   "source": [
    "#1.Write a Python Program to Display Fibonacci Sequence Using Recursion?\n",
    "--->\n",
    "# Python program to display the Fibonacci sequence\n",
    "\n",
    "def recur_fibo(n):\n",
    "   if n <= 1:\n",
    "       return n\n",
    "   else:\n",
    "       return(recur_fibo(n-1) + recur_fibo(n-2))\n",
    "\n",
    "nterms = 10\n",
    "\n",
    "# check if the number of terms is valid\n",
    "if nterms <= 0:\n",
    "   print(\"Plese enter a positive integer\")\n",
    "else:\n",
    "   print(\"Fibonacci sequence:\")\n",
    "   for i in range(nterms):\n",
    "       print(recur_fibo(i))\n"
   ]
  },
  {
   "cell_type": "raw",
   "id": "a72fbf50",
   "metadata": {},
   "source": [
    "#2.Write a Python Program to Find Factorial of Number Using Recursion?\n",
    "--->\n",
    "# Factorial of a number using recursion\n",
    "\n",
    "def recur_factorial(n):\n",
    "   if n == 1:\n",
    "       return n\n",
    "   else:\n",
    "       return n*recur_factorial(n-1)\n",
    "\n",
    "num = 7\n",
    "\n",
    "# check if the number is negative\n",
    "if num < 0:\n",
    "   print(\"Sorry, factorial does not exist for negative numbers\")\n",
    "elif num == 0:\n",
    "   print(\"The factorial of 0 is 1\")\n",
    "else:\n",
    "   print(\"The factorial of\", num, \"is\", recur_factorial(num))\n"
   ]
  },
  {
   "cell_type": "raw",
   "id": "9f86376e",
   "metadata": {},
   "source": [
    "# 3.Write a Python Program to calculate your Body Mass Index?\n",
    "--->\n",
    "height = float(input(\"Enter your height in cm: \")) \n",
    "weight = float(input(\"Enter your weight in kg: \"))\n",
    "BMI = weight / (height/100)**2.\n",
    "print(f\"You BMI is {BMI}\")"
   ]
  },
  {
   "cell_type": "raw",
   "id": "87d12b6c",
   "metadata": {},
   "source": [
    "#4.Write a Python Program to calculate the natural logarithm of any number?\n",
    "--->\n",
    "# Python code to demonstrate the working of\n",
    "# log2(a)\n",
    "\n",
    "import math\n",
    "\n",
    "# Printing the log base 2 of 14\n",
    "print (\"Logarithm base 2 of 14 is : \", end=\"\")\n",
    "print (math.log2(14))\n"
   ]
  },
  {
   "cell_type": "raw",
   "id": "95d3ed52",
   "metadata": {},
   "source": [
    "#5.Write a Python Program for cube sum of first n natural numbers?\n",
    "--->\n",
    "# Simple Python program to find sum of series\n",
    "# with cubes of first n natural numbers\n",
    "\n",
    "# Returns the sum of series\n",
    "def sumOfSeries(n):\n",
    "\tsum = 0\n",
    "\tfor i in range(1, n+1):\n",
    "\t\tsum +=i*i*i\n",
    "\t\t\n",
    "\treturn sum\n",
    "\n",
    "\n",
    "# Driver Function\n",
    "n = 5\n",
    "print(sumOfSeries(n))\n",
    "\n",
    "# Code Contributed by Mohit Gupta_OMG <(0_o)>\n"
   ]
  },
  {
   "cell_type": "code",
   "execution_count": null,
   "id": "a9932a05",
   "metadata": {},
   "outputs": [],
   "source": []
  }
 ],
 "metadata": {
  "kernelspec": {
   "display_name": "Python 3",
   "language": "python",
   "name": "python3"
  },
  "language_info": {
   "codemirror_mode": {
    "name": "ipython",
    "version": 3
   },
   "file_extension": ".py",
   "mimetype": "text/x-python",
   "name": "python",
   "nbconvert_exporter": "python",
   "pygments_lexer": "ipython3",
   "version": "3.8.8"
  }
 },
 "nbformat": 4,
 "nbformat_minor": 5
}
