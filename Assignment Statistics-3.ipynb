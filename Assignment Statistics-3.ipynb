{
 "cells": [
  {
   "cell_type": "raw",
   "id": "0877edfe",
   "metadata": {},
   "source": [
    "#1.For a group of 7 people, find the probability that all 4 seasons (winter, spring, summer, fall) occur at least once each among their birthdays, assuming that all seasons are equally likely.\n",
    "--->\n",
    "For a group of 7 people, find the probability that all 4 seasons (winter, spring, summer, fall) occur at least once each among their birthdays, assuming that all seasons are equally likely. = 4P(A1) 6P(A1 \\ A2)+4P(A1 \\ A2 \\ A3). We have P(A1) = (3/4)7."
   ]
  },
  {
   "cell_type": "raw",
   "id": "1048e70d",
   "metadata": {},
   "source": [
    "#2.\n",
    "--->My answer: 65×25×24/(30/7)\n",
    "For every one of the 5 days of the week, Alice has 6 choices.Thus 65.\n",
    "\n",
    "But she still has to choose 2 more classes, out of 25 classes remaining. Thus 25×24.\n",
    "\n",
    "The denominator is the same in both cases, so no need for further explanation. Choose 7 classes out of 30."
   ]
  },
  {
   "cell_type": "markdown",
   "id": "1ca6334a",
   "metadata": {},
   "source": []
  }
 ],
 "metadata": {
  "kernelspec": {
   "display_name": "Python 3",
   "language": "python",
   "name": "python3"
  },
  "language_info": {
   "codemirror_mode": {
    "name": "ipython",
    "version": 3
   },
   "file_extension": ".py",
   "mimetype": "text/x-python",
   "name": "python",
   "nbconvert_exporter": "python",
   "pygments_lexer": "ipython3",
   "version": "3.8.8"
  }
 },
 "nbformat": 4,
 "nbformat_minor": 5
}
