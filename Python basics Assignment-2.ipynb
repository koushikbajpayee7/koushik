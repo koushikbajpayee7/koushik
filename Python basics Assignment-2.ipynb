{
 "cells": [
  {
   "cell_type": "code",
   "execution_count": 3,
   "id": "9f88a237",
   "metadata": {},
   "outputs": [
    {
     "name": "stdout",
     "output_type": "stream",
     "text": [
      "enter the kilometer: 10\n",
      "10.00 kilometers is equal to 6.21 miles\n"
     ]
    }
   ],
   "source": [
    "#1.Write a Python program to convert kilometers to miles?\n",
    "#Taking kilometers input from user\n",
    "kilometer=float(input('enter the kilometer: '))\n",
    "#Conversion factor\n",
    "conv_fac=0.621371\n",
    "#Calculating in miles\n",
    "miles=kilometer*conv_fac\n",
    "print('%0.2f kilometers is equal to %0.2f miles' %(kilometer,miles))"
   ]
  },
  {
   "cell_type": "code",
   "execution_count": 2,
   "id": "a630a183",
   "metadata": {},
   "outputs": [
    {
     "name": "stdout",
     "output_type": "stream",
     "text": [
      "37.5 celsius is equal to 99.5 fahrenheit\n"
     ]
    }
   ],
   "source": [
    "#2.  Write a Python program to convert Celsius to Fahrenheit?\n",
    "celsius=37.5\n",
    "\n",
    "#calculating fahrenheit\n",
    "fahrenheit=(celsius*1.8)+32\n",
    "print('%0.1f celsius is equal to %0.1f fahrenheit' %(celsius,fahrenheit))"
   ]
  },
  {
   "cell_type": "code",
   "execution_count": 4,
   "id": "c7cf9f0c",
   "metadata": {},
   "outputs": [
    {
     "name": "stdout",
     "output_type": "stream",
     "text": [
      "Enter the year 2022\n",
      "Enter the month 01\n",
      "    January 2022\n",
      "Mo Tu We Th Fr Sa Su\n",
      "                1  2\n",
      " 3  4  5  6  7  8  9\n",
      "10 11 12 13 14 15 16\n",
      "17 18 19 20 21 22 23\n",
      "24 25 26 27 28 29 30\n",
      "31\n",
      "\n"
     ]
    }
   ],
   "source": [
    "#3.  Write a Python program to display calendar?\n",
    "import calendar\n",
    "year=int(input('Enter the year ' ))\n",
    "month=int(input('Enter the month ' ))\n",
    "print(calendar.month(year,month))"
   ]
  },
  {
   "cell_type": "code",
   "execution_count": 6,
   "id": "4d84fa93",
   "metadata": {},
   "outputs": [
    {
     "name": "stdout",
     "output_type": "stream",
     "text": [
      "The solution are (-3+0j) and (-2+0j)\n"
     ]
    }
   ],
   "source": [
    "#4.  Write a Python program to solve quadratic equation?\n",
    "\n",
    "#import complex math module\n",
    "import cmath\n",
    "a=2\n",
    "b=10\n",
    "c=12\n",
    "\n",
    "#calculating the discriminant\n",
    "d=(b**2)-(4*a*c)\n",
    "\n",
    "#find two solution\n",
    "sol1=(-b-cmath.sqrt(d))/(2*a)\n",
    "sol2=(-b+cmath.sqrt(d))/(2*a)\n",
    "\n",
    "print('The solution are {0} and {1}'.format(sol1,sol2))"
   ]
  },
  {
   "cell_type": "code",
   "execution_count": 8,
   "id": "8f595494",
   "metadata": {},
   "outputs": [
    {
     "name": "stdout",
     "output_type": "stream",
     "text": [
      "The values of x and y is (10, 5)\n"
     ]
    }
   ],
   "source": [
    "#5.  Write a Python program to swap two variables without temp variable?\n",
    "x=5\n",
    "y=10\n",
    "x,y=y,x\n",
    "print('The values of x and y is',(x,y))"
   ]
  },
  {
   "cell_type": "code",
   "execution_count": null,
   "id": "c74d8532",
   "metadata": {},
   "outputs": [],
   "source": []
  }
 ],
 "metadata": {
  "kernelspec": {
   "display_name": "Python 3",
   "language": "python",
   "name": "python3"
  },
  "language_info": {
   "codemirror_mode": {
    "name": "ipython",
    "version": 3
   },
   "file_extension": ".py",
   "mimetype": "text/x-python",
   "name": "python",
   "nbconvert_exporter": "python",
   "pygments_lexer": "ipython3",
   "version": "3.8.8"
  }
 },
 "nbformat": 4,
 "nbformat_minor": 5
}
