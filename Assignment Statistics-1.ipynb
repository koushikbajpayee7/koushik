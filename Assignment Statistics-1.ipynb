{
 "cells": [
  {
   "cell_type": "markdown",
   "id": "7717c189",
   "metadata": {},
   "source": [
    "1.Harvard Law School courses often have assigned seating to facilitate the “Socratic method.” Suppose that there are 100 first year Harvard Law students, and each takes two courses: Torts and Contracts. Both are held in the same lecture hall (which has 100 seats), and the seating is uniformly random and independent for the two courses. \n",
    "(a) Find the probability that no one has the same seat for both courses (exactly; you should   leave your answer as a sum). \n",
    "(b) Find a simple but accurate approximation to the probability that no one has the same seat for both courses. \n",
    "(c) Find a simple but accurate approximation to the probability that at least two students have the same seat for both courses.\n",
    "\n",
    "--->(B)\n",
    "Define Ii to be the indicator for student i not having the same seat in both courses,so that N=∑100i=1Ii , Then P(Ii=1)=99/100, and the Ii are weakly dependent.\n",
    "So N is close to Pois(λ) in distribution, where λ=E(N)=100E[I1]=99. Thus  P(N=100)≈e−9999100100!=0.03966085721≠e−1\n"
   ]
  },
  {
   "cell_type": "markdown",
   "id": "b5be8a38",
   "metadata": {},
   "source": [
    "# 2.There are 100 passengers lined up to board an airplane with 100 seats (with each seat assigned to one of the passengers). The first passenger in line crazily decides to sit in a randomly chosen seat (with all seats equally likely). Each subsequent passenger takes his or her assigned seat if available, and otherwise sits in a random available seat. What is the probability that the last passenger in line gets to sit in his or her assigned seat?\n",
    "--->\n",
    "The answer is that the probability that the last person ends in up in their proper seat is exactly  1/2.\n",
    "\n",
    "First observe that the fate of the last person is determined the moment either the first or the last seat is selected! This is because the last person will either get the first seat or the last seat. Any other seat will necessarily be taken by the time the last person gets to 'choose'.\n",
    "\n",
    "Since at each choice step, the first or last is equally probable to be taken, the last person will get either the first or last with equal probability: 1/2\n"
   ]
  },
  {
   "cell_type": "code",
   "execution_count": null,
   "id": "53cffed0",
   "metadata": {},
   "outputs": [],
   "source": []
  },
  {
   "cell_type": "code",
   "execution_count": null,
   "id": "a3054734",
   "metadata": {},
   "outputs": [],
   "source": []
  }
 ],
 "metadata": {
  "kernelspec": {
   "display_name": "Python 3",
   "language": "python",
   "name": "python3"
  },
  "language_info": {
   "codemirror_mode": {
    "name": "ipython",
    "version": 3
   },
   "file_extension": ".py",
   "mimetype": "text/x-python",
   "name": "python",
   "nbconvert_exporter": "python",
   "pygments_lexer": "ipython3",
   "version": "3.8.8"
  }
 },
 "nbformat": 4,
 "nbformat_minor": 5
}
